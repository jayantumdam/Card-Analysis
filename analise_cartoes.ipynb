# Credit card analysis
import pandas as pd
import matplotlib.pyplot as plt
import seaborn as sns
%matplotlib inline

plt.style.use('ggplot')
credit_card = pd.read_csv('credit_card.csv')
## Context
Nowadays, most of people use credit cards to all kind of payment, and its getting more and more frequently everyday.
In that sense, incontables fintechs and banks are trying to keep their custumers as happy as possible with the services offereded. From a dataset about credit card usage and customer's preference, we can draw a kind of specific and apropriate product to each kind of a company customer. We currently have 3 kinds of rewards offered by our company, this document's goal is to show us the most effective and if we are able to create a new one to replace or agregate our grid of benefits.
## Hypothesis
There are two hypotheses underlying this study:
- The first one is that all customers use the credit cards with the same proposits: acummulate rewards,   whatever the rewards is;
- The second one is that most of customers preferer rewards known as air miles and we would like to develop something special to this kind of public;
## Objectives
Our first goal is to understand how the custumer develop hers habits using credit card and what she expect from it as reward or not; And, once the credit card is a key in the customer's routine, how its impacted by lifestyle and preferences. 
## Metrics
The program of rewards in a credit card has a simple objective: Retain the client and make she more active in our plataform. Our main performance indicator of success key is the rate of customers sticking to our reward's program and how it can be more atractive to them and profitable. For this study, we choose to look upon a sample of transactions reflecting a year of credit card uses from different customers profiles.

## Decisions to be made upon results
Based on the results, we're going to decided wheter or not to create a new category of reward for different kinds of customers, and if we decide to create, wich is the best option to approach theses customers under our plataform, keeping an eye on our main aspect and giving the best experience to them.

## Test Structure and Groups

The kind of reward can be chosen by our customers, and we have three main choices: `Air miles`, `CashBack` and `Points`; And our customers are clasified by their income level that it's associated with their lifestyle and habits.
Our distribution of clients by rewards's category is the one as detailed below:
explode = (0.1, 0, 0)

rewards_df = credit_card['Reward']

rewards_counts = rewards_df.value_counts().tolist()
rewards = rewards_df.drop_duplicates().tolist()

_, ax1 = plt.subplots()
ax1.pie(rewards_counts, explode=explode, labels=rewards, autopct='%1.2f%%', shadow=False, startangle=360, colors=['indigo', 'purple', 'orchid'])
ax1.axis('equal') 
plt.title('1. Most Popular Rewards')
plt.show()
Our main customers are medium level income, and our products are desinged to them, but with this study we'd like to creat a new approach to other kind of clients and increase our revenues and the power of our brand. 

The percentage or our customers are below, as so their preferences: 
df_cross_data = pd.crosstab(credit_card['Income Level'], credit_card['Reward'])
df_cross_data['Total'] = df_cross_data.sum(axis=1)
df_cross_data['% Customers'] = credit_card['Income Level'].value_counts(normalize=True).mul(100).round(1).astype(str) + '%'
df_cross_data
As demonstrated in our table above, our client is very faithful to our methods and rewards, and we can take the following conclusion based in our second chart (below): 
- Most of our customers' spending is rewarded by `Air Miles`, so the financial volume and number of subscribers is higher in this category, but the audience that prefers Cashback has grown a lot over new business and technology advances, and thus we need to adapt our business model to satisfy this beech of the public and have greater market share.
df = credit_card[['Average Balance','Reward']]
df = df.groupby('Reward').sum()

ax = df.plot(kind='bar', figsize=(8,4), color = ['indigo', 'purple', 'orchid'], fontsize=13, legend = None);
ax.set_yticks([ 2000000, 4000000, 6000000, 8000000])
plt.title('2. Balance by Reward')

for i in ax.patches:
    ax.text(i.get_x() - 0.10, i.get_height() + 200000, \
            ('${:,.2f}'.format(i.get_height())), fontsize=14, color='black',
                rotation=0)
## Conclusion
Our main goal is to be present in people's lives and reward them through their spending. When we perform these types of analyzes, we seek to understand the profile of our customers and how they behave, thereby generating a worthwhile differential for our customer. Thus we find two niche markets that may be paramount to our development: Our most loyal clients and new clients looking for new solutions to their financial lives. Creating a specific product for each type of customer is a solution that will make old customers like our company even more and even spread it to friends and families, increasing our impact as a brand; And the creation of a product specific to new customers, with greater competitive advantages, such as points that never expire, or combinable points, that he can have access to any type of product or discounts on his invoices or cashbacks.
## Next Steps
1. Given that we have to kind of publics in our target, we have to draw different kind of approachs and products;
2. We should focus on our second type of audience, and start sending notifications and pushs with double score boosts, and high return of cash back at certain times of the day, such as at lunchtime or on weekends, to encourage card usage and increase revenue through it.
3. The product that should be developed for loyal customers in the area should be partnered with air travel companies to offer better rates and conditions to customers, and the higher the level of spending and use of cards, the greater the benefits with airline tickets. last minute promotion, even discount coupons sent via random notifications to certain customer groups.import pandas as pd
import matplotlib.pyplot as plt
import seaborn as sns

# Loading the dataset
data = pd.read_csv('dataset.csv')

# Inspecting the first few rows of the dataset
print("Dataset Preview:")
print(data.head())

# Data Analysis
print("\nDataset Information:")
data.info()

print("\nSummary Statistics:")
print(data.describe())

# Data Cleaning
print("\nChecking for missing values:")
missing_values = data.isnull().sum()
print(missing_values)

# Filling missing values
print("\nFilling missing values:")
data.fillna(data.mean(), inplace=True)

# Visualizing distributions
print("\nVisualizing data distributions:")
sns.histplot(data['column_of_interest'], kde=True)
plt.title('Distribution of Column of Interest')
plt.show()

# Correlation Analysis
print("\nCorrelation Matrix:")
correlation_matrix = data.corr()
print(correlation_matrix)

sns.heatmap(correlation_matrix, annot=True, cmap='coolwarm')
plt.title('Correlation Heatmap')
plt.show()

# Filtering Data
print("\nFiltering dataset based on a condition:")
filtered_data = data[data['column'] > threshold]
print(filtered_data.head())

# Aggregations
print("\nAggregating data:")
aggregated_data = data.groupby('category_column')['value_column'].mean()
print(aggregated_data)

# Saving the processed dataset
print("\nSaving the cleaned and processed dataset:")
data.to_csv('cleaned_dataset.csv', index=False)
print("Processed dataset saved as 'cleaned_dataset.csv'.")
