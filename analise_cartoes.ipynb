import pandas as pd
import matplotlib.pyplot as plt
import seaborn as sns

# Loading the dataset
data = pd.read_csv('dataset.csv')

# Inspecting the first few rows of the dataset
print("Dataset Preview:")
print(data.head())

# Data Analysis
print("\nDataset Information:")
data.info()

print("\nSummary Statistics:")
print(data.describe())

# Data Cleaning
print("\nChecking for missing values:")
missing_values = data.isnull().sum()
print(missing_values)

# Filling missing values
print("\nFilling missing values:")
data.fillna(data.mean(), inplace=True)

# Visualizing distributions
print("\nVisualizing data distributions:")
sns.histplot(data['column_of_interest'], kde=True)
plt.title('Distribution of Column of Interest')
plt.show()

# Correlation Analysis
print("\nCorrelation Matrix:")
correlation_matrix = data.corr()
print(correlation_matrix)

sns.heatmap(correlation_matrix, annot=True, cmap='coolwarm')
plt.title('Correlation Heatmap')
plt.show()

# Filtering Data
print("\nFiltering dataset based on a condition:")
filtered_data = data[data['column'] > threshold]
print(filtered_data.head())

# Aggregations
print("\nAggregating data:")
aggregated_data = data.groupby('category_column')['value_column'].mean()
print(aggregated_data)

# Saving the processed dataset
print("\nSaving the cleaned and processed dataset:")
data.to_csv('cleaned_dataset.csv', index=False)
print("Processed dataset saved as 'cleaned_dataset.csv'.")
